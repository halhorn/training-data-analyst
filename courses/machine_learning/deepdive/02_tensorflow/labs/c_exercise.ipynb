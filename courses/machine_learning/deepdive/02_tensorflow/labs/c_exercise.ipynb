{
 "cells": [
  {
   "cell_type": "code",
   "execution_count": 1,
   "metadata": {},
   "outputs": [
    {
     "name": "stdout",
     "output_type": "stream",
     "text": [
      "1.15.0\n"
     ]
    }
   ],
   "source": [
    "import tensorflow as tf\n",
    "import pandas as pd\n",
    "import shutil\n",
    "\n",
    "print(tf.__version__)\n",
    "tf.enable_eager_execution()"
   ]
  },
  {
   "cell_type": "code",
   "execution_count": 2,
   "metadata": {},
   "outputs": [
    {
     "data": {
      "text/plain": [
       "37.69911184307752"
      ]
     },
     "execution_count": 2,
     "metadata": {},
     "output_type": "execute_result"
    }
   ],
   "source": [
    "import math\n",
    "\n",
    "def volume(r: float, h: float) -> float:\n",
    "    return math.pi * r ** 2 * h\n",
    "\n",
    "volume(2, 3)"
   ]
  },
  {
   "cell_type": "code",
   "execution_count": 3,
   "metadata": {},
   "outputs": [
    {
     "data": {
      "text/plain": [
       "[1.8982271001525828, 1.1219003001790622, 0.7562935239010877]"
      ]
     },
     "execution_count": 3,
     "metadata": {},
     "output_type": "execute_result"
    }
   ],
   "source": [
    "import numpy as np\n",
    "\n",
    "def rand(data_size, min_val, max_val):\n",
    "    r = np.random.random(data_size)\n",
    "    return list((r + min_val) * (max_val - min_val))\n",
    "\n",
    "rand(3, 0.5, 2.0)"
   ]
  },
  {
   "cell_type": "code",
   "execution_count": 4,
   "metadata": {},
   "outputs": [],
   "source": [
    "data_size = 10000\n",
    "\n",
    "inputs = {\n",
    "    'r': rand(data_size, 0.5, 2.0),\n",
    "    'h': rand(data_size, 0.5, 2.0),\n",
    "}\n",
    "outputs = np.array([volume(inputs['r'][i], inputs['h'][i]) for i in range(len(inputs['r']))])\n",
    "#print(inputs)\n",
    "#print(outputs)"
   ]
  },
  {
   "cell_type": "code",
   "execution_count": 12,
   "metadata": {},
   "outputs": [],
   "source": [
    "eval_data_size = 1000\n",
    "eval_inputs = {\n",
    "    'r': rand(eval_data_size, 0.5, 2.0),\n",
    "    'h': rand(eval_data_size, 0.5, 2.0),\n",
    "}\n",
    "eval_outputs = np.array([volume(eval_inputs['r'][i], eval_inputs['h'][i]) for i in range(len(eval_inputs['r']))])\n"
   ]
  },
  {
   "cell_type": "code",
   "execution_count": 6,
   "metadata": {},
   "outputs": [
    {
     "name": "stdout",
     "output_type": "stream",
     "text": [
      "INFO:tensorflow:Using config: {'_service': None, '_train_distribute': None, '_save_checkpoints_steps': None, '_eval_distribute': None, '_tf_random_seed': 1, '_task_type': 'worker', '_keep_checkpoint_max': 5, '_task_id': 0, '_experimental_distribute': None, '_experimental_max_worker_delay_secs': None, '_num_ps_replicas': 0, '_log_step_count_steps': 100, '_cluster_spec': <tensorflow.python.training.server_lib.ClusterSpec object at 0x7fd16a34e780>, '_is_chief': True, '_global_id_in_cluster': 0, '_protocol': None, '_save_summary_steps': 100, '_session_config': allow_soft_placement: true\n",
      "graph_options {\n",
      "  rewrite_options {\n",
      "    meta_optimizer_iterations: ONE\n",
      "  }\n",
      "}\n",
      ", '_device_fn': None, '_evaluation_master': '', '_num_worker_replicas': 1, '_session_creation_timeout_secs': 7200, '_model_dir': './cy_model', '_master': '', '_keep_checkpoint_every_n_hours': 10000, '_save_checkpoints_secs': 600}\n"
     ]
    }
   ],
   "source": [
    "CY_OUT_DIR = './cy_model'\n",
    "\n",
    "shutil.rmtree(path = CY_OUT_DIR, ignore_errors = True)\n",
    "\n",
    "cy_feature_columns = [\n",
    "    tf.feature_column.numeric_column('r'),\n",
    "    tf.feature_column.numeric_column('h'),\n",
    "]\n",
    "model = tf.estimator.DNNRegressor(\n",
    "    feature_columns=cy_feature_columns,\n",
    "    hidden_units=[10, 10],\n",
    "    model_dir=CY_OUT_DIR,\n",
    "    config=tf.estimator.RunConfig(tf_random_seed = 1)\n",
    ")"
   ]
  },
  {
   "cell_type": "code",
   "execution_count": 7,
   "metadata": {},
   "outputs": [],
   "source": [
    "def cy_input_fn():\n",
    "    return tf.data.Dataset.from_tensor_slices((\n",
    "        inputs,\n",
    "        outputs,\n",
    "    )).repeat().shuffle(1024).batch(128)\n",
    "    # .shuffle(1024).repeat().batch(128)\n",
    "\n",
    "def cy_eval_input_fn():\n",
    "    return tf.data.Dataset.from_tensor_slices((\n",
    "        eval_inputs,\n",
    "        eval_outputs,\n",
    "    )).batch(128)"
   ]
  },
  {
   "cell_type": "code",
   "execution_count": 14,
   "metadata": {},
   "outputs": [
    {
     "name": "stdout",
     "output_type": "stream",
     "text": [
      "WARNING:tensorflow:From /usr/local/lib/python3.5/dist-packages/tensorflow_core/python/training/training_util.py:236: Variable.initialized_value (from tensorflow.python.ops.variables) is deprecated and will be removed in a future version.\n",
      "Instructions for updating:\n",
      "Use Variable.read_value. Variables in 2.X are initialized automatically both in eager and graph (inside tf.defun) contexts.\n",
      "WARNING:tensorflow:From /usr/local/lib/python3.5/dist-packages/tensorflow_core/python/data/util/random_seed.py:58: where (from tensorflow.python.ops.array_ops) is deprecated and will be removed in a future version.\n",
      "Instructions for updating:\n",
      "Use tf.where in 2.0, which has the same broadcast rule as np.where\n",
      "INFO:tensorflow:Calling model_fn.\n",
      "WARNING:tensorflow:From /usr/local/lib/python3.5/dist-packages/tensorflow_core/python/ops/resource_variable_ops.py:1630: calling BaseResourceVariable.__init__ (from tensorflow.python.ops.resource_variable_ops) with constraint is deprecated and will be removed in a future version.\n",
      "Instructions for updating:\n",
      "If using Keras pass *_constraint arguments to layers.\n",
      "WARNING:tensorflow:From /usr/local/lib/python3.5/dist-packages/tensorflow_estimator/python/estimator/canned/head.py:437: to_float (from tensorflow.python.ops.math_ops) is deprecated and will be removed in a future version.\n",
      "Instructions for updating:\n",
      "Use `tf.cast` instead.\n",
      "WARNING:tensorflow:From /usr/local/lib/python3.5/dist-packages/tensorflow_core/python/training/adagrad.py:76: calling Constant.__init__ (from tensorflow.python.ops.init_ops) with dtype is deprecated and will be removed in a future version.\n",
      "Instructions for updating:\n",
      "Call initializer instance with the dtype argument instead of passing it to the constructor\n",
      "INFO:tensorflow:Done calling model_fn.\n",
      "INFO:tensorflow:Create CheckpointSaverHook.\n",
      "INFO:tensorflow:Graph was finalized.\n",
      "INFO:tensorflow:Running local_init_op.\n",
      "INFO:tensorflow:Done running local_init_op.\n",
      "INFO:tensorflow:Saving checkpoints for 0 into ./cy_model/model.ckpt.\n",
      "INFO:tensorflow:loss = 21484.877, step = 0\n",
      "INFO:tensorflow:global_step/sec: 287.199\n",
      "INFO:tensorflow:loss = 2888.6177, step = 100 (0.353 sec)\n",
      "INFO:tensorflow:global_step/sec: 342.503\n",
      "INFO:tensorflow:loss = 2006.7793, step = 200 (0.289 sec)\n",
      "INFO:tensorflow:global_step/sec: 343.593\n",
      "INFO:tensorflow:loss = 1236.921, step = 300 (0.291 sec)\n",
      "INFO:tensorflow:global_step/sec: 351.185\n",
      "INFO:tensorflow:loss = 409.42172, step = 400 (0.284 sec)\n",
      "INFO:tensorflow:global_step/sec: 351.458\n",
      "INFO:tensorflow:loss = 488.5061, step = 500 (0.285 sec)\n",
      "INFO:tensorflow:global_step/sec: 345.477\n",
      "INFO:tensorflow:loss = 356.26184, step = 600 (0.290 sec)\n",
      "INFO:tensorflow:global_step/sec: 350.842\n",
      "INFO:tensorflow:loss = 246.1252, step = 700 (0.284 sec)\n",
      "INFO:tensorflow:global_step/sec: 351.594\n",
      "INFO:tensorflow:loss = 263.2556, step = 800 (0.284 sec)\n",
      "INFO:tensorflow:global_step/sec: 342.5\n",
      "INFO:tensorflow:loss = 231.95088, step = 900 (0.293 sec)\n",
      "INFO:tensorflow:Saving checkpoints for 1000 into ./cy_model/model.ckpt.\n",
      "INFO:tensorflow:Loss for final step: 220.45404.\n"
     ]
    },
    {
     "data": {
      "text/plain": [
       "<tensorflow_estimator.python.estimator.canned.dnn.DNNRegressor at 0x7fd16a34e438>"
      ]
     },
     "execution_count": 14,
     "metadata": {},
     "output_type": "execute_result"
    }
   ],
   "source": [
    "model.train(cy_input_fn, steps=1000)"
   ]
  },
  {
   "cell_type": "code",
   "execution_count": 15,
   "metadata": {},
   "outputs": [
    {
     "name": "stdout",
     "output_type": "stream",
     "text": [
      "INFO:tensorflow:Calling model_fn.\n",
      "INFO:tensorflow:Done calling model_fn.\n",
      "INFO:tensorflow:Starting evaluation at 2019-11-21T07:12:36Z\n",
      "INFO:tensorflow:Graph was finalized.\n",
      "INFO:tensorflow:Restoring parameters from ./cy_model/model.ckpt-1000\n",
      "INFO:tensorflow:Running local_init_op.\n",
      "INFO:tensorflow:Done running local_init_op.\n",
      "INFO:tensorflow:Finished evaluation at 2019-11-21-07:12:37\n",
      "INFO:tensorflow:Saving dict for global step 1000: average_loss = 1.99253, global_step = 1000, label/mean = 11.559625, loss = 249.06625, prediction/mean = 11.34709\n",
      "INFO:tensorflow:Saving 'checkpoint_path' summary for global step 1000: ./cy_model/model.ckpt-1000\n"
     ]
    },
    {
     "data": {
      "text/plain": [
       "1.4115700437062553"
      ]
     },
     "execution_count": 15,
     "metadata": {},
     "output_type": "execute_result"
    }
   ],
   "source": [
    "metrics = model.evaluate(cy_eval_input_fn)\n",
    "metrics['average_loss']**0.5"
   ]
  },
  {
   "cell_type": "code",
   "execution_count": null,
   "metadata": {},
   "outputs": [],
   "source": []
  }
 ],
 "metadata": {
  "kernelspec": {
   "display_name": "Python 3",
   "language": "python",
   "name": "python3"
  },
  "language_info": {
   "codemirror_mode": {
    "name": "ipython",
    "version": 3
   },
   "file_extension": ".py",
   "mimetype": "text/x-python",
   "name": "python",
   "nbconvert_exporter": "python",
   "pygments_lexer": "ipython3",
   "version": "3.5.3"
  }
 },
 "nbformat": 4,
 "nbformat_minor": 4
}
